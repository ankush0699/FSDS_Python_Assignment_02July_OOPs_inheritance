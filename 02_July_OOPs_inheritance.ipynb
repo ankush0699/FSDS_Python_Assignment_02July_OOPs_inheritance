{
 "cells": [
  {
   "cell_type": "code",
   "execution_count": 52,
   "metadata": {},
   "outputs": [],
   "source": [
    "#Name: Ankush Shukla            #E-mail: ankushshukla0612@gmail.com\n",
    "\n",
    "#Python_Assignment:  02_July_OOPs_inheritance"
   ]
  },
  {
   "cell_type": "code",
   "execution_count": 53,
   "metadata": {},
   "outputs": [],
   "source": [
    "#Question_1:  Explain what inheritance is in object-oriented programming and why it is used."
   ]
  },
  {
   "cell_type": "code",
   "execution_count": 54,
   "metadata": {},
   "outputs": [
    {
     "data": {
      "text/plain": [
       "'\\n   Inheritance in object-oriented programming is a mechanism that allows a new class (the subclass or derived class) \\n   to inherit properties and behaviors from an existing class (the superclass or base class). \\n   Inheritance is used to promote code reusability, establish class hierarchies, and create more organized, extensible, \\n   and maintainable software. \\n   It enables the subclass to inherit attributes and methods from the superclass, facilitating a \"is-a\" relationship between \\n   classes and facilitating the creation of more specialized classes based on existing ones. \\n   This helps in modeling real-world relationships and promotes the DRY (Don\\'t Repeat Yourself) principle in software development.\\n'"
      ]
     },
     "execution_count": 54,
     "metadata": {},
     "output_type": "execute_result"
    }
   ],
   "source": [
    "#Answer:  \n",
    "\n",
    "\"\"\"\n",
    "   Inheritance in object-oriented programming is a mechanism that allows a new class (the subclass or derived class) \n",
    "   to inherit properties and behaviors from an existing class (the superclass or base class). \n",
    "   Inheritance is used to promote code reusability, establish class hierarchies, and create more organized, extensible, \n",
    "   and maintainable software. \n",
    "   It enables the subclass to inherit attributes and methods from the superclass, facilitating a \"is-a\" relationship between \n",
    "   classes and facilitating the creation of more specialized classes based on existing ones. \n",
    "   This helps in modeling real-world relationships and promotes the DRY (Don't Repeat Yourself) principle in software development.\n",
    "\"\"\""
   ]
  },
  {
   "cell_type": "code",
   "execution_count": 55,
   "metadata": {},
   "outputs": [],
   "source": [
    "#Question_2:  Discuss the concept of single inheritance and multiple inheritance, highlighting their\n",
    "#             differences and advantages."
   ]
  },
  {
   "cell_type": "code",
   "execution_count": 56,
   "metadata": {},
   "outputs": [
    {
     "data": {
      "text/plain": [
       "'\\n\\n# Single Inheritance:\\n1. In single inheritance, a class can inherit from only one base class.\\n2. It enforces a strict, linear hierarchy, where each class has only one direct parent class.\\n3. Single inheritance is simpler and can be easier to understand and manage in smaller projects.\\n4. It avoids some of the complexities and ambiguities that can arise in multiple inheritance.\\n\\n# Advantages of Single Inheritance:\\n- Simplicity: Easier to comprehend and design when dealing with linear relationships.\\n- Reduced Complexity: Helps avoid issues like the \"diamond problem\" (a problem specific to multiple inheritance) where class hierarchies become more complex.\\n\\n#Multiple Inheritance:\\n1. In multiple inheritance, a class can inherit from more than one base class. This means that a class can have multiple parent classes.\\n2. It allows for complex relationships and combinations of features from multiple sources.\\n3. Multiple inheritance can lead to more flexible and powerful class hierarchies.\\n4. It is especially useful in situations where classes naturally inherit features from more than one source.\\n\\n# Advantages of Multiple Inheritance:\\n- Code Reuse: Enables a high degree of code reuse by combining features from multiple parent classes.\\n- Modeling Complex Relationships: Useful for modeling complex real-world relationships where a class exhibits characteristics of multiple types.\\n- Improved Modularity: Supports modular design by breaking down functionality into smaller, reusable components.\\n\\n# Differences:\\n\\n1. Complexity: Multiple inheritance can introduce complexity, especially in cases of ambiguity when two base classes provide conflicting methods or attributes. \\n   Single inheritance is simpler in this regard.\\n2. Diamond Problem: In multiple inheritance, the \"diamond problem\" can occur when a subclass inherits from two classes that share a common base class. \\n   This can lead to ambiguity when calling methods from the common base class. Single inheritance avoids this problem.\\n\\n3. Code Reusability: Multiple inheritance provides more code reuse opportunities, while single inheritance enforces a more linear, focused hierarchy.\\n\\n4. Design Considerations: The choice between single and multiple inheritance depends on the specific needs of a project. \\n   Single inheritance is often favored when clarity and simplicity are paramount, while multiple inheritance is chosen when complex relationships and code reuse are important.\\n\\n'"
      ]
     },
     "execution_count": 56,
     "metadata": {},
     "output_type": "execute_result"
    }
   ],
   "source": [
    "#Answer:\n",
    "\n",
    "\"\"\"\n",
    "\n",
    "# Single Inheritance:\n",
    "1. In single inheritance, a class can inherit from only one base class.\n",
    "2. It enforces a strict, linear hierarchy, where each class has only one direct parent class.\n",
    "3. Single inheritance is simpler and can be easier to understand and manage in smaller projects.\n",
    "4. It avoids some of the complexities and ambiguities that can arise in multiple inheritance.\n",
    "\n",
    "# Advantages of Single Inheritance:\n",
    "- Simplicity: Easier to comprehend and design when dealing with linear relationships.\n",
    "- Reduced Complexity: Helps avoid issues like the \"diamond problem\" (a problem specific to multiple inheritance) where class hierarchies become more complex.\n",
    "\n",
    "#Multiple Inheritance:\n",
    "1. In multiple inheritance, a class can inherit from more than one base class. This means that a class can have multiple parent classes.\n",
    "2. It allows for complex relationships and combinations of features from multiple sources.\n",
    "3. Multiple inheritance can lead to more flexible and powerful class hierarchies.\n",
    "4. It is especially useful in situations where classes naturally inherit features from more than one source.\n",
    "\n",
    "# Advantages of Multiple Inheritance:\n",
    "- Code Reuse: Enables a high degree of code reuse by combining features from multiple parent classes.\n",
    "- Modeling Complex Relationships: Useful for modeling complex real-world relationships where a class exhibits characteristics of multiple types.\n",
    "- Improved Modularity: Supports modular design by breaking down functionality into smaller, reusable components.\n",
    "\n",
    "# Differences:\n",
    "\n",
    "1. Complexity: Multiple inheritance can introduce complexity, especially in cases of ambiguity when two base classes provide conflicting methods or attributes. \n",
    "   Single inheritance is simpler in this regard.\n",
    "2. Diamond Problem: In multiple inheritance, the \"diamond problem\" can occur when a subclass inherits from two classes that share a common base class. \n",
    "   This can lead to ambiguity when calling methods from the common base class. Single inheritance avoids this problem.\n",
    "\n",
    "3. Code Reusability: Multiple inheritance provides more code reuse opportunities, while single inheritance enforces a more linear, focused hierarchy.\n",
    "\n",
    "4. Design Considerations: The choice between single and multiple inheritance depends on the specific needs of a project. \n",
    "   Single inheritance is often favored when clarity and simplicity are paramount, while multiple inheritance is chosen when complex relationships and code reuse are important.\n",
    "\n",
    "\"\"\""
   ]
  },
  {
   "cell_type": "code",
   "execution_count": 57,
   "metadata": {},
   "outputs": [],
   "source": [
    "#Question_3:  Explain the terms \"base class\" and \"derived class\" in the context of inheritance."
   ]
  },
  {
   "cell_type": "code",
   "execution_count": 58,
   "metadata": {},
   "outputs": [
    {
     "data": {
      "text/plain": [
       "\"\\nBase Class (Superclass or Parent Class):\\n\\nThe base class is the class from which other classes inherit properties and behaviors.\\nIt is often more general or abstract in nature, defining a common set of attributes and methods.\\nThe base class serves as a template or blueprint for creating more specialized classes.\\nInstances of the base class can be created, but they represent the general concept without any specialization.\\n\\n\\nDerived Class (Subclass or Child Class):\\n\\nThe derived class is the class that inherits from the base class, which means it acquires the attributes and methods defined in the base class.\\nIt is often more specific or specialized, adding additional attributes or methods to the inherited ones.\\nThe derived class can also override or extend the behavior of the base class's methods.\\nInstances of the derived class represent a more specific concept or object that inherits and extends the properties and behaviors of the base class.\\n\\n\""
      ]
     },
     "execution_count": 58,
     "metadata": {},
     "output_type": "execute_result"
    }
   ],
   "source": [
    "#Answer:\n",
    "\n",
    "\"\"\"\n",
    "Base Class (Superclass or Parent Class):\n",
    "\n",
    "The base class is the class from which other classes inherit properties and behaviors.\n",
    "It is often more general or abstract in nature, defining a common set of attributes and methods.\n",
    "The base class serves as a template or blueprint for creating more specialized classes.\n",
    "Instances of the base class can be created, but they represent the general concept without any specialization.\n",
    "\n",
    "\n",
    "Derived Class (Subclass or Child Class):\n",
    "\n",
    "The derived class is the class that inherits from the base class, which means it acquires the attributes and methods defined in the base class.\n",
    "It is often more specific or specialized, adding additional attributes or methods to the inherited ones.\n",
    "The derived class can also override or extend the behavior of the base class's methods.\n",
    "Instances of the derived class represent a more specific concept or object that inherits and extends the properties and behaviors of the base class.\n",
    "\n",
    "\"\"\""
   ]
  },
  {
   "cell_type": "code",
   "execution_count": 59,
   "metadata": {},
   "outputs": [],
   "source": [
    "#Question_4:  What is the significance of the \"protected\" access modifier in inheritance? \n",
    "#             How does it differ from \"private\" and \"public\" modifiers?"
   ]
  },
  {
   "cell_type": "code",
   "execution_count": 60,
   "metadata": {},
   "outputs": [
    {
     "data": {
      "text/plain": [
       "'\\n\\nSignificance of \"Protected\" access modifier in Inheritance:\\n\\nInheritance is a key concept in OOP, and the \"protected\" access modifier plays a crucial role in building class hierarchies.\\n\"Protected\" members allow derived classes to access and potentially extend or override inherited attributes and methods, \\nmaking it possible to specialize and adapt the behavior of base classes.\\nIt enforces a level of encapsulation while allowing for controlled extensibility.\\n\\n\\n\\nDifferences from \"Private\" and \"Public\":\\n\\n\"Private\" members are the most restricted and are inaccessible from derived classes. They are used to hide implementation details and \\nare entirely encapsulated within the defining class.\\n\"Public\" members are the least restricted, allowing access from anywhere. They are used for attributes and methods that should be \\naccessible to all parts of the program.\\n\\n'"
      ]
     },
     "execution_count": 60,
     "metadata": {},
     "output_type": "execute_result"
    }
   ],
   "source": [
    "#Answer:\n",
    "\n",
    "\"\"\"\n",
    "\n",
    "Significance of \"Protected\" access modifier in Inheritance:\n",
    "\n",
    "Inheritance is a key concept in OOP, and the \"protected\" access modifier plays a crucial role in building class hierarchies.\n",
    "\"Protected\" members allow derived classes to access and potentially extend or override inherited attributes and methods, \n",
    "making it possible to specialize and adapt the behavior of base classes.\n",
    "It enforces a level of encapsulation while allowing for controlled extensibility.\n",
    "\n",
    "\n",
    "\n",
    "Differences from \"Private\" and \"Public\":\n",
    "\n",
    "\"Private\" members are the most restricted and are inaccessible from derived classes. They are used to hide implementation details and \n",
    "are entirely encapsulated within the defining class.\n",
    "\"Public\" members are the least restricted, allowing access from anywhere. They are used for attributes and methods that should be \n",
    "accessible to all parts of the program.\n",
    "\n",
    "\"\"\""
   ]
  },
  {
   "cell_type": "code",
   "execution_count": 61,
   "metadata": {},
   "outputs": [],
   "source": [
    "#Question_5:  What is the purpose of the \"super\" keyword in inheritance? Provide an example."
   ]
  },
  {
   "cell_type": "code",
   "execution_count": 62,
   "metadata": {},
   "outputs": [
    {
     "name": "stdout",
     "output_type": "stream",
     "text": [
      "Buddy makes a sound\n",
      "Buddy barks\n"
     ]
    }
   ],
   "source": [
    "#Answer:  \n",
    "\n",
    "\"\"\"\n",
    "The \"super\" keyword in inheritance is used to call a method or access a property of the parent class (superclass or base class) \n",
    "from a method in the child class (subclass or derived class).\n",
    "\"\"\"\n",
    "\n",
    "class Animal:\n",
    "    def __init__(self, name):\n",
    "        self.name = name\n",
    "\n",
    "    def speak(self):\n",
    "        print(f\"{self.name} makes a sound\")\n",
    "\n",
    "class Dog(Animal):\n",
    "    def __init__(self, name, breed):\n",
    "        super().__init__(name)  # Calling the parent class constructor\n",
    "        self.breed = breed\n",
    "\n",
    "    def speak(self):\n",
    "        super().speak()  # Calling the parent class's speak method\n",
    "        print(f\"{self.name} barks\")\n",
    "\n",
    "dog = Dog(\"Buddy\", \"Golden Retriever\")\n",
    "dog.speak()\n",
    "\n",
    "\n"
   ]
  },
  {
   "cell_type": "code",
   "execution_count": 63,
   "metadata": {},
   "outputs": [],
   "source": [
    "#Question_6:  reate a base class called \"Vehicle\" with attributes like \"make\", \"model\", and \"year\".\n",
    "#             Then, create a derived class called \"Car\" that inherits from \"Vehicle\" and adds an\n",
    "#             attribute called \"fuel_type\". Implement appropriate methods in both classes."
   ]
  },
  {
   "cell_type": "code",
   "execution_count": 64,
   "metadata": {},
   "outputs": [
    {
     "name": "stdout",
     "output_type": "stream",
     "text": [
      "2022 Toyota Camry\n",
      "2022 Honda Civic, Fuel Type: Gasoline\n"
     ]
    }
   ],
   "source": [
    "#Answer:  \n",
    "\n",
    "class Vehicle:\n",
    "    def __init__(self, make, model, year):\n",
    "        self.make = make\n",
    "        self.model = model\n",
    "        self.year = year\n",
    "\n",
    "    def get_info(self):\n",
    "        return f\"{self.year} {self.make} {self.model}\"\n",
    "\n",
    "class Car(Vehicle):\n",
    "    def __init__(self, make, model, year, fuel_type):\n",
    "        super().__init__(make, model, year)\n",
    "        self.fuel_type = fuel_type\n",
    "\n",
    "    def get_info(self):\n",
    "        vehicle_info = super().get_info()  \n",
    "        return f\"{vehicle_info}, Fuel Type: {self.fuel_type}\"\n",
    "\n",
    "vehicle = Vehicle(\"Toyota\", \"Camry\", 2022)\n",
    "car = Car(\"Honda\", \"Civic\", 2022, \"Gasoline\")\n",
    "\n",
    "print(vehicle.get_info())  \n",
    "print(car.get_info())      \n"
   ]
  },
  {
   "cell_type": "code",
   "execution_count": 65,
   "metadata": {},
   "outputs": [],
   "source": [
    "#Question_7:  Create a base class called \"Employee\" with attributes like \"name\" and \"salary.\"\n",
    "#             Derive two classes, \"Manager\" and \"Developer,\" from \"Employee.\" Add an additional\n",
    "#             attribute called \"department\" for the \"Manager\" class and \"programming_language\"\n",
    "#             for the \"Developer\" class."
   ]
  },
  {
   "cell_type": "code",
   "execution_count": 66,
   "metadata": {},
   "outputs": [
    {
     "name": "stdout",
     "output_type": "stream",
     "text": [
      "Name: John Smith, Salary: $60000.00\n",
      "Name: Alice Johnson, Salary: $80000.00, Department: HR\n",
      "Name: David Brown, Salary: $70000.00, Programming Language: Python\n"
     ]
    }
   ],
   "source": [
    "#Answer:  \n",
    "\n",
    "class Employee:\n",
    "    def __init__(self, name, salary):\n",
    "        self.name = name\n",
    "        self.salary = salary\n",
    "\n",
    "    def get_info(self):\n",
    "        return f\"Name: {self.name}, Salary: ${self.salary:.2f}\"\n",
    "\n",
    "class Manager(Employee):\n",
    "    def __init__(self, name, salary, department):\n",
    "        super().__init__(name, salary)\n",
    "        self.department = department\n",
    "\n",
    "    def get_info(self):\n",
    "        employee_info = super().get_info()\n",
    "        return f\"{employee_info}, Department: {self.department}\"\n",
    "\n",
    "class Developer(Employee):\n",
    "    def __init__(self, name, salary, programming_language):\n",
    "        super().__init__(name, salary)\n",
    "        self.programming_language = programming_language\n",
    "\n",
    "    def get_info(self):\n",
    "        employee_info = super().get_info()\n",
    "        return f\"{employee_info}, Programming Language: {self.programming_language}\"\n",
    "\n",
    "employee = Employee(\"John Smith\", 60000.0)\n",
    "manager = Manager(\"Alice Johnson\", 80000.0, \"HR\")\n",
    "developer = Developer(\"David Brown\", 70000.0, \"Python\")\n",
    "\n",
    "print(employee.get_info())\n",
    "print(manager.get_info())\n",
    "print(developer.get_info())\n"
   ]
  },
  {
   "cell_type": "code",
   "execution_count": 67,
   "metadata": {},
   "outputs": [],
   "source": [
    "#Question_8:  \n",
    "\n",
    "# Design a base class called \"Shape\" with attributes like \"colour\" and \"border_width.\"\n",
    "# Create derived classes, \"Rectangle\" and \"Circle,\" that inherit from \"Shape\" and add\n",
    "# specific attributes like \"length\" and \"width\" for the \"Rectangle\" class and \"radius\" for\n",
    "# the \"Circle\" class."
   ]
  },
  {
   "cell_type": "code",
   "execution_count": 68,
   "metadata": {},
   "outputs": [
    {
     "name": "stdout",
     "output_type": "stream",
     "text": [
      "Red 2 4 6\n",
      "Blue 1 5\n"
     ]
    }
   ],
   "source": [
    "#Answer:\n",
    "\n",
    "class Shape:\n",
    "    def __init__(self, color, border_width):\n",
    "        self.color = color\n",
    "        self.border_width = border_width\n",
    "\n",
    "class Rectangle(Shape):\n",
    "    def __init__(self, color, border_width, length, width):\n",
    "        super().__init__(color, border_width)\n",
    "        self.length = length\n",
    "        self.width = width\n",
    "\n",
    "class Circle(Shape):\n",
    "    def __init__(self, color, border_width, radius):\n",
    "        super().__init__(color, border_width)\n",
    "        self.radius = radius\n",
    "\n",
    "rectangle = Rectangle(\"Red\", 2, 4, 6)\n",
    "circle = Circle(\"Blue\", 1, 5)\n",
    "\n",
    "print(rectangle.color, rectangle.border_width, rectangle.length, rectangle.width)\n",
    "print(circle.color, circle.border_width, circle.radius)\n",
    "\n"
   ]
  },
  {
   "cell_type": "code",
   "execution_count": 69,
   "metadata": {},
   "outputs": [],
   "source": [
    "#Question_9:  \n",
    "\n",
    "# Create a base class called \"Device\" with attributes like \"brand\" and \"model.\" Derive\n",
    "# two classes, \"Phone\" and \"Tablet,\" from \"Device.\" Add specific attributes like\n",
    "# \"screen_size\" for the \"Phone\" class and \"battery_capacity\" for the \"Tablet\" class. "
   ]
  },
  {
   "cell_type": "code",
   "execution_count": 70,
   "metadata": {},
   "outputs": [
    {
     "name": "stdout",
     "output_type": "stream",
     "text": [
      "Brand: Apple, Model: MacBook\n",
      "Brand: Samsung, Model: Galaxy S21, Screen Size: 6.2 inches\n",
      "Brand: Apple, Model: iPad Pro, Battery Capacity: 10000 mAh\n"
     ]
    }
   ],
   "source": [
    "#Answer:\n",
    "\n",
    "class Device:\n",
    "    def __init__(self, brand, model):\n",
    "        self.brand = brand\n",
    "        self.model = model\n",
    "\n",
    "    def get_info(self):\n",
    "        return f\"Brand: {self.brand}, Model: {self.model}\"\n",
    "\n",
    "class Phone(Device):\n",
    "    def __init__(self, brand, model, screen_size):\n",
    "        super().__init__(brand, model)\n",
    "        self.screen_size = screen_size\n",
    "\n",
    "    def get_info(self):\n",
    "        device_info = super().get_info()\n",
    "        return f\"{device_info}, Screen Size: {self.screen_size} inches\"\n",
    "\n",
    "class Tablet(Device):\n",
    "    def __init__(self, brand, model, battery_capacity):\n",
    "        super().__init__(brand, model)\n",
    "        self.battery_capacity = battery_capacity\n",
    "\n",
    "    def get_info(self):\n",
    "        device_info = super().get_info()\n",
    "        return f\"{device_info}, Battery Capacity: {self.battery_capacity} mAh\"\n",
    "\n",
    "device = Device(\"Apple\", \"MacBook\")\n",
    "phone = Phone(\"Samsung\", \"Galaxy S21\", 6.2)\n",
    "tablet = Tablet(\"Apple\", \"iPad Pro\", 10000)\n",
    "\n",
    "print(device.get_info())\n",
    "print(phone.get_info())\n",
    "print(tablet.get_info())\n"
   ]
  },
  {
   "cell_type": "code",
   "execution_count": 71,
   "metadata": {},
   "outputs": [],
   "source": [
    "#Question_10: \n",
    "\n",
    "# Create a base class called \"BankAccount\" with attributes like \"account_number\" and\n",
    "# \"balance.\" Derive two classes, \"SavingsAccount\" and \"CheckingAccount,\" from\n",
    "# \"BankAccount.\" Add specific methods like \"calculate_interest\" for the\n",
    "# \"SavingsAccount\" class and \"deduct_fees\" for the \"CheckingAccount\" class."
   ]
  },
  {
   "cell_type": "code",
   "execution_count": 72,
   "metadata": {},
   "outputs": [
    {
     "name": "stdout",
     "output_type": "stream",
     "text": [
      "Account Number: ABC12345, Balance: $1000.00\n",
      "Interest Earned: $20.00\n",
      "Account Number: ABC12345, Balance: $1020.00\n",
      "Account Number: EFG67890, Balance: $1500.00\n",
      "Monthly Fee Deducted: $10.00\n",
      "Account Number: EFG67890, Balance: $1490.00\n"
     ]
    }
   ],
   "source": [
    "#Answer:\n",
    "\n",
    "class BankAccount:\n",
    "    def __init__(self, account_number, balance):\n",
    "        self.account_number = account_number\n",
    "        self.balance = balance\n",
    "\n",
    "    def get_balance(self):\n",
    "        return f\"Account Number: {self.account_number}, Balance: ${self.balance:.2f}\"\n",
    "\n",
    "class SavingsAccount(BankAccount):\n",
    "    def __init__(self, account_number, balance, interest_rate):\n",
    "        super().__init__(account_number, balance)\n",
    "        self.interest_rate = interest_rate\n",
    "\n",
    "    def calculate_interest(self):\n",
    "        interest_earned = self.balance * (self.interest_rate / 100)\n",
    "        self.balance += interest_earned\n",
    "        return f\"Interest Earned: ${interest_earned:.2f}\"\n",
    "\n",
    "class CheckingAccount(BankAccount):\n",
    "    def __init__(self, account_number, balance, monthly_fee):\n",
    "        super().__init__(account_number, balance)\n",
    "        self.monthly_fee = monthly_fee\n",
    "\n",
    "    def deduct_fees(self):\n",
    "        self.balance -= self.monthly_fee\n",
    "        return f\"Monthly Fee Deducted: ${self.monthly_fee:.2f}\"\n",
    "\n",
    "savings_account = SavingsAccount(\"ABC12345\", 1000.0, 2.0)\n",
    "checking_account = CheckingAccount(\"EFG67890\", 1500.0, 10.0)\n",
    "\n",
    "print(savings_account.get_balance())\n",
    "print(savings_account.calculate_interest())\n",
    "print(savings_account.get_balance())\n",
    "\n",
    "print(checking_account.get_balance())\n",
    "print(checking_account.deduct_fees())\n",
    "print(checking_account.get_balance())\n"
   ]
  }
 ],
 "metadata": {
  "kernelspec": {
   "display_name": "base",
   "language": "python",
   "name": "python3"
  },
  "language_info": {
   "codemirror_mode": {
    "name": "ipython",
    "version": 3
   },
   "file_extension": ".py",
   "mimetype": "text/x-python",
   "name": "python",
   "nbconvert_exporter": "python",
   "pygments_lexer": "ipython3",
   "version": "3.11.4"
  }
 },
 "nbformat": 4,
 "nbformat_minor": 2
}
